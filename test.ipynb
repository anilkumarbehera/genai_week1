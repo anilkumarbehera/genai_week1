{
 "cells": [
  {
   "cell_type": "code",
   "execution_count": null,
   "metadata": {},
   "outputs": [
    {
     "name": "stdout",
     "output_type": "stream",
     "text": [
      "Your API key is: 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\n"
     ]
    }
   ],
   "source": [
    "import os\n",
    "\n",
    "# Set environment variable (like export in Unix)\n",
    "os.environ[\"GROQ_API_KEY\"] = \"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\"\n",
    "\n",
    "# Verify if it's set correctly\n",
    "print(os.getenv(\"GROQ_API_KEY\"))\n"
   ]
  },
  {
   "cell_type": "code",
   "execution_count": null,
   "metadata": {},
   "outputs": [],
   "source": [
    " "
   ]
  }
 ],
 "metadata": {
  "kernelspec": {
   "display_name": "genai_llm",
   "language": "python",
   "name": "python3"
  },
  "language_info": {
   "codemirror_mode": {
    "name": "ipython",
    "version": 3
   },
   "file_extension": ".py",
   "mimetype": "text/x-python",
   "name": "python",
   "nbconvert_exporter": "python",
   "pygments_lexer": "ipython3",
   "version": "3.12.0"
  }
 },
 "nbformat": 4,
 "nbformat_minor": 2
}
